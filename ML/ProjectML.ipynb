{
 "cells": [
  {
   "cell_type": "code",
   "execution_count": 5,
   "id": "9196cbec-b82a-452b-a761-55a738ff69de",
   "metadata": {},
   "outputs": [
    {
     "name": "stdout",
     "output_type": "stream",
     "text": [
      "Accuracy: 0.425\n",
      "Classification Report:\n",
      "               precision    recall  f1-score   support\n",
      "\n",
      "           1       0.38      0.46      0.41        13\n",
      "           2       0.41      0.50      0.45        14\n",
      "           3       0.57      0.31      0.40        13\n",
      "\n",
      "    accuracy                           0.42        40\n",
      "   macro avg       0.45      0.42      0.42        40\n",
      "weighted avg       0.45      0.42      0.42        40\n",
      "\n",
      "✅ Model training complete. Files saved successfully!\n"
     ]
    }
   ],
   "source": [
    "import pandas as pd\n",
    "import numpy as np\n",
    "from sklearn.model_selection import train_test_split\n",
    "from sklearn.feature_extraction.text import TfidfVectorizer\n",
    "from imblearn.over_sampling import SMOTE\n",
    "from sklearn.ensemble import RandomForestClassifier\n",
    "from sklearn.metrics import classification_report, accuracy_score\n",
    "\n",
    "# Load the dataset\n",
    "df = pd.read_csv(r\"E:\\Projects\\ProjectML\\balanced_complaints_dataset.csv\")\n",
    "\n",
    "# Splitting features and target variable\n",
    "X = df['Complaint']\n",
    "y = df['Priority']\n",
    "\n",
    "# Convert text data into numerical vectors using TF-IDF\n",
    "vectorizer = TfidfVectorizer()\n",
    "X_tfidf = vectorizer.fit_transform(X)\n",
    "\n",
    "# Splitting into training and test sets\n",
    "X_train, X_test, y_train, y_test = train_test_split(X_tfidf, y, test_size=0.2, random_state=42, stratify=y)\n",
    "\n",
    "# Apply SMOTE to balance classes (if needed)\n",
    "smote = SMOTE(random_state=42)\n",
    "X_train_resampled, y_train_resampled = smote.fit_resample(X_train, y_train)\n",
    "\n",
    "# Train the model\n",
    "model = RandomForestClassifier(n_estimators=200, random_state=42)\n",
    "model.fit(X_train_resampled, y_train_resampled)\n",
    "\n",
    "# Predictions\n",
    "y_pred = model.predict(X_test)\n",
    "\n",
    "# Evaluation\n",
    "print(\"Accuracy:\", accuracy_score(y_test, y_pred))\n",
    "print(\"Classification Report:\\n\", classification_report(y_test, y_pred))\n",
    "\n",
    "# Save the model and vectorizer\n",
    "import joblib\n",
    "joblib.dump(model, \"complaint_priority_model.pkl\")\n",
    "joblib.dump(vectorizer, \"tfidf_vectorizer.pkl\")\n",
    "\n",
    "print(\"✅ Model training complete. Files saved successfully!\")\n"
   ]
  },
  {
   "cell_type": "code",
   "execution_count": 6,
   "id": "69b88411-6445-4b4c-b3b2-979700372f3a",
   "metadata": {},
   "outputs": [
    {
     "name": "stdout",
     "output_type": "stream",
     "text": [
      "Predicted Priority: 3\n"
     ]
    }
   ],
   "source": [
    "import joblib\n",
    "\n",
    "# Load the trained model and vectorizer\n",
    "model = joblib.load(\"complaint_priority_model.pkl\")\n",
    "vectorizer = joblib.load(\"tfidf_vectorizer.pkl\")\n",
    "\n",
    "def predict_priority(complaint):\n",
    "    # Transform the complaint using TF-IDF\n",
    "    complaint_tfidf = vectorizer.transform([complaint])\n",
    "    \n",
    "    # Predict the priority\n",
    "    priority = model.predict(complaint_tfidf)[0]\n",
    "    \n",
    "    return priority\n",
    "\n",
    "# Example usage\n",
    "sample_complaint = \"There is no electricity in the hostel!\"\n",
    "predicted_priority = predict_priority(sample_complaint)\n",
    "print(f\"Predicted Priority: {predicted_priority}\")\n",
    "\n"
   ]
  },
  {
   "cell_type": "code",
   "execution_count": 3,
   "id": "8865d1b4-190c-4683-b296-00f8d12ecb5c",
   "metadata": {},
   "outputs": [],
   "source": [
    "\n",
    "\n"
   ]
  },
  {
   "cell_type": "code",
   "execution_count": null,
   "id": "96bb2cd8-fd94-456f-acf7-38ec622ac86d",
   "metadata": {},
   "outputs": [],
   "source": []
  }
 ],
 "metadata": {
  "kernelspec": {
   "display_name": "Python 3 (ipykernel)",
   "language": "python",
   "name": "python3"
  },
  "language_info": {
   "codemirror_mode": {
    "name": "ipython",
    "version": 3
   },
   "file_extension": ".py",
   "mimetype": "text/x-python",
   "name": "python",
   "nbconvert_exporter": "python",
   "pygments_lexer": "ipython3",
   "version": "3.12.7"
  }
 },
 "nbformat": 4,
 "nbformat_minor": 5
}
