{
 "cells": [
  {
   "cell_type": "code",
   "execution_count": 1,
   "id": "9196cbec-b82a-452b-a761-55a738ff69de",
   "metadata": {},
   "outputs": [
    {
     "name": "stdout",
     "output_type": "stream",
     "text": [
      "Complaint: Change of teacher is urgent => Priority: High\n",
      "Complaint: There are insects found in food => Priority: Medium\n",
      "Complaint: WiFi is not working in hostel => Priority: Medium\n",
      "Complaint: The common area is too noisy at night => Priority: Low\n",
      "Complaint: AC is broken in my room => Priority: Medium\n",
      "Complaint: Help! There was an assault in the corridor => Priority: High\n"
     ]
    }
   ],
   "source": [
    "# ProjectML.ipynb\n",
    "\n",
    "def get_priority(complaint):\n",
    "    complaint = complaint.lower()\n",
    "\n",
    "    high_priority_keywords = [\n",
    "        \"urgent\", \"teacher change\", \"faculty\", \"violence\", \"emergency\", \"harassment\",\n",
    "        \"security issue\", \"safety\", \"theft\", \"medical\", \"mental health\", \"assault\",\n",
    "        \"fire\", \"accident\", \"fight\", \"panic\", \"bullying\", \"academic help\"\n",
    "    ]\n",
    "\n",
    "    medium_priority_keywords = [\n",
    "        \"wifi\", \"network\", \"internet\", \"hostel\", \"library\", \"food\", \"mess\", \n",
    "        \"water\", \"electricity\", \"curfew\", \"washroom\", \"bathroom\", \"attendance\",\n",
    "        \"noise\", \"mosquito\", \"lights\", \"slow connection\", \"video call\", \"broken fan\",\n",
    "        \"room is hot\", \"dustbin\", \"maintenance\", \"air conditioning\", \"ac\", \"broken door\"\n",
    "    ]\n",
    "\n",
    "    low_priority_keywords = [\n",
    "        \"canteen\", \"menu\", \"spicy food\", \"insects\", \"chairs\", \"clean\", \"dirty\",\n",
    "        \"trash\", \"not cleaned\", \"repetitive food\", \"boring\", \"common area\", \"messy\", \n",
    "        \"fan\", \"paint\", \"decor\", \"broken furniture\", \"too noisy\", \"bugs\", \"overflowing\"\n",
    "    ]\n",
    "\n",
    "    if any(k in complaint for k in high_priority_keywords):\n",
    "        return \"High\"\n",
    "    elif any(k in complaint for k in medium_priority_keywords):\n",
    "        return \"Medium\"\n",
    "    elif any(k in complaint for k in low_priority_keywords):\n",
    "        return \"Low\"\n",
    "    else:\n",
    "        return \"Medium\"  # default\n",
    "\n",
    "# ✨ Try testing with different complaints:\n",
    "test_complaints = [\n",
    "    \"Change of teacher is urgent\",\n",
    "    \"There are insects found in food\",\n",
    "    \"WiFi is not working in hostel\",\n",
    "    \"The common area is too noisy at night\",\n",
    "    \"AC is broken in my room\",\n",
    "    \"Help! There was an assault in the corridor\"\n",
    "]\n",
    "\n",
    "for complaint in test_complaints:\n",
    "    print(f\"Complaint: {complaint} => Priority: {get_priority(complaint)}\")\n"
   ]
  },
  {
   "cell_type": "code",
   "execution_count": 2,
   "id": "3ea62d07",
   "metadata": {},
   "outputs": [
    {
     "name": "stderr",
     "output_type": "stream",
     "text": [
      "[nltk_data] Downloading package punkt to C:\\Users\\meghashree\n",
      "[nltk_data]     v\\AppData\\Roaming\\nltk_data...\n",
      "[nltk_data]   Package punkt is already up-to-date!\n"
     ]
    },
    {
     "data": {
      "text/plain": [
       "True"
      ]
     },
     "execution_count": 2,
     "metadata": {},
     "output_type": "execute_result"
    }
   ],
   "source": [
    "import nltk\n",
    "nltk.download('punkt')\n"
   ]
  },
  {
   "cell_type": "code",
   "execution_count": 5,
   "id": "e0b88670",
   "metadata": {},
   "outputs": [],
   "source": [
    "import nltk"
   ]
  },
  {
   "cell_type": "code",
   "execution_count": 6,
   "id": "eec895ea",
   "metadata": {},
   "outputs": [
    {
     "name": "stderr",
     "output_type": "stream",
     "text": [
      "[nltk_data] Downloading package punkt to C:\\Users\\meghashree\n",
      "[nltk_data]     v\\AppData\\Roaming\\nltk_data...\n",
      "[nltk_data]   Package punkt is already up-to-date!\n"
     ]
    },
    {
     "data": {
      "text/plain": [
       "True"
      ]
     },
     "execution_count": 6,
     "metadata": {},
     "output_type": "execute_result"
    }
   ],
   "source": [
    "nltk.download('punkt')"
   ]
  },
  {
   "cell_type": "code",
   "execution_count": 7,
   "id": "8fcab0bb",
   "metadata": {},
   "outputs": [
    {
     "name": "stdout",
     "output_type": "stream",
     "text": [
      "['This', 'is', 'a', 'test', 'sentence']\n"
     ]
    }
   ],
   "source": [
    "import re\n",
    "text = \"This is a test sentence!\"\n",
    "tokens = re.findall(r'\\b\\w+\\b', text)\n",
    "print(tokens)\n"
   ]
  }
 ],
 "metadata": {
  "kernelspec": {
   "display_name": "Python 3",
   "language": "python",
   "name": "python3"
  },
  "language_info": {
   "codemirror_mode": {
    "name": "ipython",
    "version": 3
   },
   "file_extension": ".py",
   "mimetype": "text/x-python",
   "name": "python",
   "nbconvert_exporter": "python",
   "pygments_lexer": "ipython3",
   "version": "3.12.3"
  }
 },
 "nbformat": 4,
 "nbformat_minor": 5
}
